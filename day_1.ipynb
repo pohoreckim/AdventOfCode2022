{
 "cells": [
  {
   "cell_type": "markdown",
   "metadata": {},
   "source": [
    "<font size=\"5\">Part One </font>"
   ]
  },
  {
   "cell_type": "code",
   "execution_count": null,
   "metadata": {},
   "outputs": [],
   "source": [
    "filename = './inputs/day_1.txt'\n",
    "\n",
    "numbers = []\n",
    "with open(filename) as f:\n",
    "    sum = 0\n",
    "    for line in f:\n",
    "        if line != '\\n':\n",
    "            sum += int(line)\n",
    "        else:\n",
    "            numbers.append(sum)\n",
    "            sum = 0\n",
    "\n",
    "max(numbers)\n"
   ]
  },
  {
   "cell_type": "markdown",
   "metadata": {},
   "source": [
    "<font size=\"5\">Part Two</font>\n"
   ]
  },
  {
   "cell_type": "code",
   "execution_count": null,
   "metadata": {},
   "outputs": [],
   "source": [
    "numbers.sort(reverse=True)\n",
    "numbers[0] + numbers[1] + numbers[2]"
   ]
  }
 ],
 "metadata": {
  "kernelspec": {
   "display_name": "Python 3.9.12 ('base')",
   "language": "python",
   "name": "python3"
  },
  "language_info": {
   "codemirror_mode": {
    "name": "ipython",
    "version": 3
   },
   "file_extension": ".py",
   "mimetype": "text/x-python",
   "name": "python",
   "nbconvert_exporter": "python",
   "pygments_lexer": "ipython3",
   "version": "3.9.12"
  },
  "orig_nbformat": 4,
  "vscode": {
   "interpreter": {
    "hash": "2c0e95c3ff7682df1cae78f5df1ed015d9eafa7685c30faad51d1a5292e3c4e8"
   }
  }
 },
 "nbformat": 4,
 "nbformat_minor": 2
}
