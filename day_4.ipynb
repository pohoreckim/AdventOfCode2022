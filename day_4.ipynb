{
 "cells": [
  {
   "cell_type": "code",
   "execution_count": 3,
   "metadata": {},
   "outputs": [],
   "source": [
    "filename = './inputs/day_4.txt'"
   ]
  },
  {
   "cell_type": "markdown",
   "metadata": {},
   "source": [
    "<font size= \"5\">Part One</font>"
   ]
  },
  {
   "cell_type": "code",
   "execution_count": 13,
   "metadata": {},
   "outputs": [
    {
     "data": {
      "text/plain": [
       "485"
      ]
     },
     "execution_count": 13,
     "metadata": {},
     "output_type": "execute_result"
    }
   ],
   "source": [
    "total = 0\n",
    "with open(filename) as file:\n",
    "    for line in file:\n",
    "        [sa_one, sa_two] = line.rstrip().split(',')\n",
    "        [sa_one_lower, sa_one_upper] = sa_one.split('-')\n",
    "        [sa_two_lower, sa_two_upper] = sa_two.split('-')\n",
    "        if ((int(sa_one_lower) >= int(sa_two_lower) and int(sa_one_upper) <= int(sa_two_upper)) \n",
    "            or (int(sa_two_lower) >= int(sa_one_lower) and int(sa_two_upper) <= int(sa_one_upper))):\n",
    "            total += 1\n",
    "total"
   ]
  },
  {
   "cell_type": "markdown",
   "metadata": {},
   "source": [
    "<font size = \"5\">Part Two</font>"
   ]
  },
  {
   "cell_type": "code",
   "execution_count": 16,
   "metadata": {},
   "outputs": [
    {
     "data": {
      "text/plain": [
       "857"
      ]
     },
     "execution_count": 16,
     "metadata": {},
     "output_type": "execute_result"
    }
   ],
   "source": [
    "total = 0\n",
    "with open(filename) as file:\n",
    "    for line in file:\n",
    "        [sa_one, sa_two] = line.rstrip().split(',')\n",
    "        [sa_one_lower, sa_one_upper] = sa_one.split('-')\n",
    "        [sa_two_lower, sa_two_upper] = sa_two.split('-')\n",
    "        if (   (int(sa_one_lower) >= int(sa_two_lower) and int(sa_one_upper) <= int(sa_two_upper)) \n",
    "            or (int(sa_two_lower) >= int(sa_one_lower) and int(sa_two_upper) <= int(sa_one_upper))\n",
    "            or (int(sa_one_upper) >= int(sa_two_lower) and int(sa_one_lower) < int(sa_two_upper))\n",
    "            or (int(sa_two_upper) >= int(sa_one_lower) and int(sa_two_lower) < int(sa_one_upper))\n",
    "            ):\n",
    "            total += 1\n",
    "total"
   ]
  }
 ],
 "metadata": {
  "kernelspec": {
   "display_name": "Python 3.11.0 64-bit",
   "language": "python",
   "name": "python3"
  },
  "language_info": {
   "codemirror_mode": {
    "name": "ipython",
    "version": 3
   },
   "file_extension": ".py",
   "mimetype": "text/x-python",
   "name": "python",
   "nbconvert_exporter": "python",
   "pygments_lexer": "ipython3",
   "version": "3.11.0"
  },
  "orig_nbformat": 4,
  "vscode": {
   "interpreter": {
    "hash": "58a9345239dbc336d9fb5297c1d36b0be4b671e0d9a015b139c8825645e14bc2"
   }
  }
 },
 "nbformat": 4,
 "nbformat_minor": 2
}
