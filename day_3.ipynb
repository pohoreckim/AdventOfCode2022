{
 "cells": [
  {
   "cell_type": "code",
   "execution_count": 32,
   "metadata": {},
   "outputs": [],
   "source": [
    "def map(letter):\n",
    "    return ord(letter) - 96 if letter >= 'a' and letter <= 'z' else ord(letter) - 38\n",
    "\n",
    "filename = \"./inputs/day_3.txt\""
   ]
  },
  {
   "cell_type": "markdown",
   "metadata": {},
   "source": [
    "<font size = \"5\">Part One</font>"
   ]
  },
  {
   "cell_type": "code",
   "execution_count": 33,
   "metadata": {},
   "outputs": [
    {
     "data": {
      "text/plain": [
       "8088"
      ]
     },
     "execution_count": 33,
     "metadata": {},
     "output_type": "execute_result"
    }
   ],
   "source": [
    "with open(filename) as file:\n",
    "    total = 0\n",
    "    for line in file:\n",
    "        middle = int((len(line) - 1) / 2)\n",
    "        comp_one = line[0:middle]\n",
    "        comp_two = line[middle:len(line) - 1]\n",
    "        doubled = []\n",
    "        for letter in comp_one:\n",
    "            if letter in comp_two:\n",
    "                if letter not in doubled:\n",
    "                    doubled.append(letter)\n",
    "        for letter in doubled:\n",
    "            total += map(letter)\n",
    "total"
   ]
  },
  {
   "cell_type": "markdown",
   "metadata": {},
   "source": [
    "<font size='5'>Part Two<font>"
   ]
  },
  {
   "cell_type": "code",
   "execution_count": 42,
   "metadata": {},
   "outputs": [
    {
     "data": {
      "text/plain": [
       "2522"
      ]
     },
     "execution_count": 42,
     "metadata": {},
     "output_type": "execute_result"
    }
   ],
   "source": [
    "total = 0\n",
    "with open(filename) as file:\n",
    "    for line in file:\n",
    "        second = file.readline().rstrip()\n",
    "        third = file.readline().rstrip()\n",
    "        for letter in line:\n",
    "            if (letter in second) and (letter in third):\n",
    "                total += map(letter)\n",
    "                break\n",
    "total"
   ]
  }
 ],
 "metadata": {
  "kernelspec": {
   "display_name": "Python 3.11.0 64-bit",
   "language": "python",
   "name": "python3"
  },
  "language_info": {
   "codemirror_mode": {
    "name": "ipython",
    "version": 3
   },
   "file_extension": ".py",
   "mimetype": "text/x-python",
   "name": "python",
   "nbconvert_exporter": "python",
   "pygments_lexer": "ipython3",
   "version": "3.11.0"
  },
  "orig_nbformat": 4,
  "vscode": {
   "interpreter": {
    "hash": "58a9345239dbc336d9fb5297c1d36b0be4b671e0d9a015b139c8825645e14bc2"
   }
  }
 },
 "nbformat": 4,
 "nbformat_minor": 2
}
