{
 "cells": [
  {
   "cell_type": "code",
   "execution_count": 30,
   "metadata": {},
   "outputs": [],
   "source": [
    "def map(letter):\n",
    "    if letter in ['A', 'B', 'C']:\n",
    "        return ord(letter) - 65\n",
    "    else:\n",
    "        return ord(letter) - 88\n",
    "\n",
    "filename = './inputs/day_2.txt'"
   ]
  },
  {
   "cell_type": "markdown",
   "metadata": {},
   "source": [
    "<font size=\"5\">Part One</font>"
   ]
  },
  {
   "cell_type": "code",
   "execution_count": 31,
   "metadata": {},
   "outputs": [
    {
     "data": {
      "text/plain": [
       "8890"
      ]
     },
     "execution_count": 31,
     "metadata": {},
     "output_type": "execute_result"
    }
   ],
   "source": [
    "with open(filename) as f:\n",
    "    total = 0\n",
    "    for line in f:\n",
    "        tokens = line.rstrip().split(' ')\n",
    "        if map(tokens[0]) == map(tokens[1]):\n",
    "            total += 3\n",
    "        elif ((map(tokens[0]) + 1) % 3) == map(tokens[1]):\n",
    "            total += 6\n",
    "        total += map(tokens[1]) + 1\n",
    "\n",
    "total"
   ]
  },
  {
   "cell_type": "markdown",
   "metadata": {},
   "source": [
    "<font size='5'>Part Two</font>"
   ]
  },
  {
   "cell_type": "code",
   "execution_count": 33,
   "metadata": {},
   "outputs": [
    {
     "data": {
      "text/plain": [
       "10238"
      ]
     },
     "execution_count": 33,
     "metadata": {},
     "output_type": "execute_result"
    }
   ],
   "source": [
    "with open(filename) as f:\n",
    "    total = 0\n",
    "    for line in f:\n",
    "        tokens = line.rstrip().split(' ')\n",
    "        if tokens[1] == 'X':\n",
    "            total += ((map(tokens[0]) + 2) % 3) + 1\n",
    "        elif tokens[1] == 'Y':\n",
    "            total += 3 + (map(tokens[0]) + 1)\n",
    "        else:\n",
    "            total += 6 + ((map(tokens[0]) + 1) % 3) + 1\n",
    "\n",
    "total"
   ]
  }
 ],
 "metadata": {
  "kernelspec": {
   "display_name": "Python 3.11.0 64-bit",
   "language": "python",
   "name": "python3"
  },
  "language_info": {
   "codemirror_mode": {
    "name": "ipython",
    "version": 3
   },
   "file_extension": ".py",
   "mimetype": "text/x-python",
   "name": "python",
   "nbconvert_exporter": "python",
   "pygments_lexer": "ipython3",
   "version": "3.11.0"
  },
  "orig_nbformat": 4,
  "vscode": {
   "interpreter": {
    "hash": "58a9345239dbc336d9fb5297c1d36b0be4b671e0d9a015b139c8825645e14bc2"
   }
  }
 },
 "nbformat": 4,
 "nbformat_minor": 2
}
